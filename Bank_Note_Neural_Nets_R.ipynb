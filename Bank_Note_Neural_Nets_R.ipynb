{
 "cells": [
  {
   "cell_type": "markdown",
   "metadata": {},
   "source": [
    "## Bank Note Neural Nets Project"
   ]
  },
  {
   "cell_type": "markdown",
   "metadata": {},
   "source": [
    "### Reading and Understanding data"
   ]
  },
  {
   "cell_type": "code",
   "execution_count": 1,
   "metadata": {},
   "outputs": [
    {
     "data": {
      "text/html": [
       "<table>\n",
       "<caption>A data.frame: 6 × 5</caption>\n",
       "<thead>\n",
       "\t<tr><th></th><th scope=col>Image.Var</th><th scope=col>Image.Skew</th><th scope=col>Image.Curt</th><th scope=col>Entropy</th><th scope=col>Class</th></tr>\n",
       "\t<tr><th></th><th scope=col>&lt;dbl&gt;</th><th scope=col>&lt;dbl&gt;</th><th scope=col>&lt;dbl&gt;</th><th scope=col>&lt;dbl&gt;</th><th scope=col>&lt;int&gt;</th></tr>\n",
       "</thead>\n",
       "<tbody>\n",
       "\t<tr><th scope=row>1</th><td>3.62160</td><td> 8.6661</td><td>-2.8073</td><td>-0.44699</td><td>0</td></tr>\n",
       "\t<tr><th scope=row>2</th><td>4.54590</td><td> 8.1674</td><td>-2.4586</td><td>-1.46210</td><td>0</td></tr>\n",
       "\t<tr><th scope=row>3</th><td>3.86600</td><td>-2.6383</td><td> 1.9242</td><td> 0.10645</td><td>0</td></tr>\n",
       "\t<tr><th scope=row>4</th><td>3.45660</td><td> 9.5228</td><td>-4.0112</td><td>-3.59440</td><td>0</td></tr>\n",
       "\t<tr><th scope=row>5</th><td>0.32924</td><td>-4.4552</td><td> 4.5718</td><td>-0.98880</td><td>0</td></tr>\n",
       "\t<tr><th scope=row>6</th><td>4.36840</td><td> 9.6718</td><td>-3.9606</td><td>-3.16250</td><td>0</td></tr>\n",
       "</tbody>\n",
       "</table>\n"
      ],
      "text/latex": [
       "A data.frame: 6 × 5\n",
       "\\begin{tabular}{r|lllll}\n",
       "  & Image.Var & Image.Skew & Image.Curt & Entropy & Class\\\\\n",
       "  & <dbl> & <dbl> & <dbl> & <dbl> & <int>\\\\\n",
       "\\hline\n",
       "\t1 & 3.62160 &  8.6661 & -2.8073 & -0.44699 & 0\\\\\n",
       "\t2 & 4.54590 &  8.1674 & -2.4586 & -1.46210 & 0\\\\\n",
       "\t3 & 3.86600 & -2.6383 &  1.9242 &  0.10645 & 0\\\\\n",
       "\t4 & 3.45660 &  9.5228 & -4.0112 & -3.59440 & 0\\\\\n",
       "\t5 & 0.32924 & -4.4552 &  4.5718 & -0.98880 & 0\\\\\n",
       "\t6 & 4.36840 &  9.6718 & -3.9606 & -3.16250 & 0\\\\\n",
       "\\end{tabular}\n"
      ],
      "text/markdown": [
       "\n",
       "A data.frame: 6 × 5\n",
       "\n",
       "| <!--/--> | Image.Var &lt;dbl&gt; | Image.Skew &lt;dbl&gt; | Image.Curt &lt;dbl&gt; | Entropy &lt;dbl&gt; | Class &lt;int&gt; |\n",
       "|---|---|---|---|---|---|\n",
       "| 1 | 3.62160 |  8.6661 | -2.8073 | -0.44699 | 0 |\n",
       "| 2 | 4.54590 |  8.1674 | -2.4586 | -1.46210 | 0 |\n",
       "| 3 | 3.86600 | -2.6383 |  1.9242 |  0.10645 | 0 |\n",
       "| 4 | 3.45660 |  9.5228 | -4.0112 | -3.59440 | 0 |\n",
       "| 5 | 0.32924 | -4.4552 |  4.5718 | -0.98880 | 0 |\n",
       "| 6 | 4.36840 |  9.6718 | -3.9606 | -3.16250 | 0 |\n",
       "\n"
      ],
      "text/plain": [
       "  Image.Var Image.Skew Image.Curt Entropy  Class\n",
       "1 3.62160    8.6661    -2.8073    -0.44699 0    \n",
       "2 4.54590    8.1674    -2.4586    -1.46210 0    \n",
       "3 3.86600   -2.6383     1.9242     0.10645 0    \n",
       "4 3.45660    9.5228    -4.0112    -3.59440 0    \n",
       "5 0.32924   -4.4552     4.5718    -0.98880 0    \n",
       "6 4.36840    9.6718    -3.9606    -3.16250 0    "
      ]
     },
     "metadata": {},
     "output_type": "display_data"
    }
   ],
   "source": [
    "df <- read.csv('bank_note_data.csv')\n",
    "head(df)"
   ]
  },
  {
   "cell_type": "code",
   "execution_count": 2,
   "metadata": {},
   "outputs": [
    {
     "data": {
      "text/html": [
       "FALSE"
      ],
      "text/latex": [
       "FALSE"
      ],
      "text/markdown": [
       "FALSE"
      ],
      "text/plain": [
       "[1] FALSE"
      ]
     },
     "metadata": {},
     "output_type": "display_data"
    }
   ],
   "source": [
    "any(is.na(df))"
   ]
  },
  {
   "cell_type": "markdown",
   "metadata": {},
   "source": [
    "### Splitting the data"
   ]
  },
  {
   "cell_type": "code",
   "execution_count": 3,
   "metadata": {},
   "outputs": [],
   "source": [
    "library(caTools)\n",
    "set.seed(101)\n",
    "\n",
    "split <- sample.split(df$Class, SplitRatio = 0.7)\n",
    "\n",
    "train <- subset(df, split == T)\n",
    "test <- subset(df, split == F)"
   ]
  },
  {
   "cell_type": "code",
   "execution_count": 4,
   "metadata": {},
   "outputs": [],
   "source": [
    "library(neuralnet)"
   ]
  },
  {
   "cell_type": "markdown",
   "metadata": {},
   "source": [
    "### Building the model"
   ]
  },
  {
   "cell_type": "code",
   "execution_count": 6,
   "metadata": {},
   "outputs": [],
   "source": [
    "nn <- neuralnet(Class ~. - Class, data = train, hidden = c(5,3), linear.output=F)"
   ]
  },
  {
   "cell_type": "code",
   "execution_count": 7,
   "metadata": {},
   "outputs": [],
   "source": [
    "predicted.nn.values <- compute(nn, test[1:4])"
   ]
  },
  {
   "cell_type": "code",
   "execution_count": 9,
   "metadata": {},
   "outputs": [
    {
     "data": {
      "text/html": [
       "<table>\n",
       "<caption>A matrix: 6 × 1 of type dbl</caption>\n",
       "<tbody>\n",
       "\t<tr><th scope=row>3</th><td>1.857258e-05</td></tr>\n",
       "\t<tr><th scope=row>11</th><td>3.507790e-05</td></tr>\n",
       "\t<tr><th scope=row>12</th><td>1.574352e-05</td></tr>\n",
       "\t<tr><th scope=row>13</th><td>1.156487e-05</td></tr>\n",
       "\t<tr><th scope=row>14</th><td>1.368406e-05</td></tr>\n",
       "\t<tr><th scope=row>17</th><td>7.533429e-06</td></tr>\n",
       "</tbody>\n",
       "</table>\n"
      ],
      "text/latex": [
       "A matrix: 6 × 1 of type dbl\n",
       "\\begin{tabular}{r|l}\n",
       "\t3 & 1.857258e-05\\\\\n",
       "\t11 & 3.507790e-05\\\\\n",
       "\t12 & 1.574352e-05\\\\\n",
       "\t13 & 1.156487e-05\\\\\n",
       "\t14 & 1.368406e-05\\\\\n",
       "\t17 & 7.533429e-06\\\\\n",
       "\\end{tabular}\n"
      ],
      "text/markdown": [
       "\n",
       "A matrix: 6 × 1 of type dbl\n",
       "\n",
       "| 3 | 1.857258e-05 |\n",
       "| 11 | 3.507790e-05 |\n",
       "| 12 | 1.574352e-05 |\n",
       "| 13 | 1.156487e-05 |\n",
       "| 14 | 1.368406e-05 |\n",
       "| 17 | 7.533429e-06 |\n",
       "\n"
      ],
      "text/plain": [
       "   [,1]        \n",
       "3  1.857258e-05\n",
       "11 3.507790e-05\n",
       "12 1.574352e-05\n",
       "13 1.156487e-05\n",
       "14 1.368406e-05\n",
       "17 7.533429e-06"
      ]
     },
     "metadata": {},
     "output_type": "display_data"
    }
   ],
   "source": [
    "head(predicted.nn.values$net.result)"
   ]
  },
  {
   "cell_type": "code",
   "execution_count": 10,
   "metadata": {},
   "outputs": [
    {
     "data": {
      "text/html": [
       "<style>\n",
       ".list-inline {list-style: none; margin:0; padding: 0}\n",
       ".list-inline>li {display: inline-block}\n",
       ".list-inline>li:not(:last-child)::after {content: \"\\00b7\"; padding: 0 .5ex}\n",
       "</style>\n",
       "<ol class=list-inline><li>0</li><li>0</li><li>0</li><li>0</li><li>0</li><li>0</li></ol>\n"
      ],
      "text/latex": [
       "\\begin{enumerate*}\n",
       "\\item 0\n",
       "\\item 0\n",
       "\\item 0\n",
       "\\item 0\n",
       "\\item 0\n",
       "\\item 0\n",
       "\\end{enumerate*}\n"
      ],
      "text/markdown": [
       "1. 0\n",
       "2. 0\n",
       "3. 0\n",
       "4. 0\n",
       "5. 0\n",
       "6. 0\n",
       "\n",
       "\n"
      ],
      "text/plain": [
       "[1] 0 0 0 0 0 0"
      ]
     },
     "metadata": {},
     "output_type": "display_data"
    }
   ],
   "source": [
    "predictions <- sapply(predicted.nn.values$net.result, round)\n",
    "head(predictions)"
   ]
  },
  {
   "cell_type": "code",
   "execution_count": 11,
   "metadata": {},
   "outputs": [
    {
     "data": {
      "text/plain": [
       "           \n",
       "predictions   0   1\n",
       "          0 229   0\n",
       "          1   0 183"
      ]
     },
     "metadata": {},
     "output_type": "display_data"
    }
   ],
   "source": [
    "table(predictions, test$Class)"
   ]
  },
  {
   "cell_type": "markdown",
   "metadata": {},
   "source": [
    "### RF Model"
   ]
  },
  {
   "cell_type": "code",
   "execution_count": 12,
   "metadata": {},
   "outputs": [
    {
     "name": "stderr",
     "output_type": "stream",
     "text": [
      "randomForest 4.6-14\n",
      "\n",
      "Type rfNews() to see new features/changes/bug fixes.\n",
      "\n"
     ]
    }
   ],
   "source": [
    "library(randomForest)"
   ]
  },
  {
   "cell_type": "code",
   "execution_count": 13,
   "metadata": {},
   "outputs": [],
   "source": [
    "df$Class <- factor(df$Class)\n",
    "set.seed(101)\n",
    "\n",
    "split <- sample.split(df$Class, SplitRatio = 0.7)\n",
    "\n",
    "train <- subset(df, split == T)\n",
    "test <- subset(df, split == F)"
   ]
  },
  {
   "cell_type": "code",
   "execution_count": 14,
   "metadata": {},
   "outputs": [
    {
     "data": {
      "text/plain": [
       "       \n",
       "rf.pred   0   1\n",
       "      0 227   1\n",
       "      1   2 182"
      ]
     },
     "metadata": {},
     "output_type": "display_data"
    }
   ],
   "source": [
    "rf.model <- randomForest(Class ~., data=train)\n",
    "rf.pred <- predict(rf.model, test)\n",
    "table(rf.pred, test$Class)"
   ]
  },
  {
   "cell_type": "markdown",
   "metadata": {},
   "source": [
    "### END!!!"
   ]
  },
  {
   "cell_type": "code",
   "execution_count": null,
   "metadata": {},
   "outputs": [],
   "source": []
  }
 ],
 "metadata": {
  "kernelspec": {
   "display_name": "R",
   "language": "R",
   "name": "ir"
  },
  "language_info": {
   "codemirror_mode": "r",
   "file_extension": ".r",
   "mimetype": "text/x-r-source",
   "name": "R",
   "pygments_lexer": "r",
   "version": "4.0.2"
  }
 },
 "nbformat": 4,
 "nbformat_minor": 4
}
